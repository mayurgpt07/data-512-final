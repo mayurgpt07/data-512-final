{
 "cells": [
  {
   "cell_type": "markdown",
   "metadata": {},
   "source": [
    "## Project Proposal\n",
    "\n",
    "### Motivation and problem statement:\n",
    "\n",
    "The problem statement for the project is a very simple question ***Which Factors Influence the Price of Health Insurance?***. The reason for the problem is that almost every person in the United States has health insurance and based on their selected plan, they get charged for it. With this problem, I want to give them a data-oriented review of how these different factors can increase or decrease their charges. If people know the reasons, they can optimize their routines to save money. Also, with exploratory analysis, I want to check whether any kind of bias exists in the different categories of features in data.\n",
    "\n",
    "The project is a way for me to prepare myself to explore unknown and faulty datasets. It will be great to learn about statistical techniques that work with different kinds of variables, conditions where techniques might not work, and how to deal with them.\n",
    "\n",
    "### Data Selected for Analysis:\n",
    "\n",
    "For the analysis, I will be using a publicly available dataset from [Kaggle](https://www.kaggle.com/mirichoi0218/insurance). The dataset consists of individual records and what were they billed by health insurance companies. The dataset does not contain any PII data. Each individual is described by the following features:\n",
    "1.\t**age**: age of the primary beneficiary\n",
    "2.\t**sex**: insurance contractor gender, female, male\n",
    "3.\t**bmi**: Body mass index, providing an understanding of the body, weights that are relatively high or low relative to height, objective index of body weight using the ratio of height to weight, ideally 18.5 to 24.9\n",
    "4.\t**children**: Number of children covered by health insurance / Number of dependents\n",
    "5.\t**smoker**: Smoking (Yes/No)\n",
    "6.\t**region**: the beneficiary's residential area in the US, northeast, southeast, southwest, northwest.\n",
    "7.\t**charges**: Individual medical costs billed by health insurance\n",
    "\n",
    "These features represent some of the most common details every customer is required to fill while applying for medical insurance. Providing an analysis using these features allows an easier interpretation for everyone (especially people who do not know about the small details of insurances).\n",
    "The description of data on Kaggle reveals that we have a similar number of male and female individuals, an almost equal number of individuals for each age (18-20 are slightly more than the rest) and there are more individual with 0 or 1 children when compared to individuals with greater than 2 children.\n",
    "\n",
    "\n",
    "#### License:\n",
    "[Database: Open Database, Contents: Database Contents](http://opendatacommons.org/licenses/dbcl/1.0/)\n",
    "\n",
    "### Unknowns and dependencies:\n",
    "\n",
    "* Although in the real world these features are not enough to adequately describe the health insurance bills, we can start with these limited columns and then gradually improve our analysis as we get new data\n",
    "* The data is a small random subset of the whole population and inferences from this data cannot be generalized to the whole population"
   ]
  }
 ],
 "metadata": {
  "kernelspec": {
   "display_name": "Python 3",
   "language": "python",
   "name": "python3"
  },
  "language_info": {
   "codemirror_mode": {
    "name": "ipython",
    "version": 3
   },
   "file_extension": ".py",
   "mimetype": "text/x-python",
   "name": "python",
   "nbconvert_exporter": "python",
   "pygments_lexer": "ipython3",
   "version": "3.7.3"
  }
 },
 "nbformat": 4,
 "nbformat_minor": 2
}
